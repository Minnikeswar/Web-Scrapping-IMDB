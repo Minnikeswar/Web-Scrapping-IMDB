{
 "cells": [
  {
   "cell_type": "code",
   "execution_count": 1,
   "id": "ff34984b",
   "metadata": {
    "execution": {
     "iopub.execute_input": "2022-11-02T14:13:25.575360Z",
     "iopub.status.busy": "2022-11-02T14:13:25.574165Z",
     "iopub.status.idle": "2022-11-02T14:13:25.769620Z",
     "shell.execute_reply": "2022-11-02T14:13:25.768693Z"
    },
    "papermill": {
     "duration": 0.203478,
     "end_time": "2022-11-02T14:13:25.772444",
     "exception": false,
     "start_time": "2022-11-02T14:13:25.568966",
     "status": "completed"
    },
    "tags": []
   },
   "outputs": [],
   "source": [
    "from bs4 import BeautifulSoup\n",
    "import pandas as pd\n",
    "import requests as rq"
   ]
  },
  {
   "cell_type": "code",
   "execution_count": 2,
   "id": "14021e2a",
   "metadata": {
    "execution": {
     "iopub.execute_input": "2022-11-02T14:13:25.779428Z",
     "iopub.status.busy": "2022-11-02T14:13:25.779044Z",
     "iopub.status.idle": "2022-11-02T14:13:25.783787Z",
     "shell.execute_reply": "2022-11-02T14:13:25.782754Z"
    },
    "papermill": {
     "duration": 0.010688,
     "end_time": "2022-11-02T14:13:25.785972",
     "exception": false,
     "start_time": "2022-11-02T14:13:25.775284",
     "status": "completed"
    },
    "tags": []
   },
   "outputs": [],
   "source": [
    "title=[]\n",
    "genre=[]\n",
    "censor_rating=[]\n",
    "ratings=[]\n",
    "year=[]\n",
    "actors=[]\n",
    "characters=[]\n",
    "overview=[]"
   ]
  },
  {
   "cell_type": "code",
   "execution_count": 3,
   "id": "d8d77f39",
   "metadata": {
    "execution": {
     "iopub.execute_input": "2022-11-02T14:13:25.791946Z",
     "iopub.status.busy": "2022-11-02T14:13:25.791618Z",
     "iopub.status.idle": "2022-11-02T14:13:25.799139Z",
     "shell.execute_reply": "2022-11-02T14:13:25.798128Z"
    },
    "papermill": {
     "duration": 0.013139,
     "end_time": "2022-11-02T14:13:25.801501",
     "exception": false,
     "start_time": "2022-11-02T14:13:25.788362",
     "status": "completed"
    },
    "tags": []
   },
   "outputs": [],
   "source": [
    "#functions to handle Nan values if any\n",
    "def fetcher(soup,obj,Class=None,gett=None):\n",
    "    if Class==None:\n",
    "        if soup.find(obj):\n",
    "            return soup.find(obj).text\n",
    "    elif gett == None:\n",
    "        if soup.find(obj,class_=Class):\n",
    "            return (soup.find(obj,class_=Class).text).replace('\\n','')\n",
    "    else:\n",
    "        if soup.find(obj,class_=Class):\n",
    "            return soup.find(obj,class_=Class).get(gett)\n",
    "    return np.nan\n",
    "\n",
    "\n",
    "def fetcher1(soup,obj,key,value):\n",
    "    if soup.find(obj,{key:value}):\n",
    "        return soup.find(obj,{key:value}).text\n",
    "    else:\n",
    "        return np.nan"
   ]
  },
  {
   "cell_type": "code",
   "execution_count": 4,
   "id": "07a5190c",
   "metadata": {
    "execution": {
     "iopub.execute_input": "2022-11-02T14:13:25.807730Z",
     "iopub.status.busy": "2022-11-02T14:13:25.807389Z",
     "iopub.status.idle": "2022-11-02T14:13:25.813812Z",
     "shell.execute_reply": "2022-11-02T14:13:25.812597Z"
    },
    "papermill": {
     "duration": 0.01207,
     "end_time": "2022-11-02T14:13:25.815958",
     "exception": false,
     "start_time": "2022-11-02T14:13:25.803888",
     "status": "completed"
    },
    "tags": []
   },
   "outputs": [],
   "source": [
    "soup=BeautifulSoup()"
   ]
  },
  {
   "cell_type": "code",
   "execution_count": 5,
   "id": "f4d642e8",
   "metadata": {
    "execution": {
     "iopub.execute_input": "2022-11-02T14:13:25.822986Z",
     "iopub.status.busy": "2022-11-02T14:13:25.822065Z",
     "iopub.status.idle": "2022-11-02T21:30:02.039071Z",
     "shell.execute_reply": "2022-11-02T21:30:02.037840Z"
    },
    "papermill": {
     "duration": 26196.223489,
     "end_time": "2022-11-02T21:30:02.042055",
     "exception": false,
     "start_time": "2022-11-02T14:13:25.818566",
     "status": "completed"
    },
    "tags": []
   },
   "outputs": [],
   "source": [
    "for a in range(1990,2023): #for all years between 1990 to 2022\n",
    "    for j in range(1,452,50): #fetching top 500 popular movies of each year\n",
    "        req=rq.get(f'https://www.imdb.com/search/title/?year={a}-01-01,{a}-12-31&start={j}&ref_=adv_nxt').text\n",
    "        soup=BeautifulSoup(req,'lxml')\n",
    "        x=soup.find_all('div',class_='lister-item')#main page\n",
    "        \n",
    "        for i in x:\n",
    "            header=i.find('h3',class_='lister-item-header')\n",
    "            title.append(fetcher(header,'a'))\n",
    "            link=header.find('a').get('href')\n",
    "            year.append(fetcher(i,'span','lister-item-year'))\n",
    "            censor_rating.append(fetcher(i,'span','certificate'))\n",
    "            ratings.append(fetcher(i,'div','ratings-imdb-rating','data-value'))\n",
    "            genre.append(fetcher(i,'span','genre'))\n",
    "            \n",
    "            res2=rq.get('https://www.imdb.com/'+link).text#for getting into child page (specific for each movie)\n",
    "            s2=BeautifulSoup(res2,'lxml')\n",
    "            info=s2.find_all('div',{'data-testid':'title-cast-item'})\n",
    "            actor=''\n",
    "            character=''\n",
    "            for i in range(min(5,len(info))):#run for top 5 entries or for maximum no of entries if they are less than 5\n",
    "                s=info[i]\n",
    "                actor+=str(fetcher1(s,'a','data-testid',\"title-cast-item__actor\"))+', '\n",
    "                character+=str(fetcher(s,'span'))+', '\n",
    "            actors.append(actor[:-2])\n",
    "            characters.append(character[:-2])\n",
    "            overview.append(fetcher1(s2,'span','data-testid',\"plot-xs_to_m\"))"
   ]
  },
  {
   "cell_type": "code",
   "execution_count": 6,
   "id": "36ec9908",
   "metadata": {
    "execution": {
     "iopub.execute_input": "2022-11-02T21:30:02.049342Z",
     "iopub.status.busy": "2022-11-02T21:30:02.048898Z",
     "iopub.status.idle": "2022-11-02T21:30:02.078658Z",
     "shell.execute_reply": "2022-11-02T21:30:02.077573Z"
    },
    "papermill": {
     "duration": 0.036214,
     "end_time": "2022-11-02T21:30:02.081197",
     "exception": false,
     "start_time": "2022-11-02T21:30:02.044983",
     "status": "completed"
    },
    "tags": []
   },
   "outputs": [],
   "source": [
    "df=pd.DataFrame({'Title':title,'Year':year,'Ratings': ratings,'Genre':genre,'Overview':overview,'Actors':actors,'Characters':characters,'Censorship':censor_rating})"
   ]
  },
  {
   "cell_type": "code",
   "execution_count": 7,
   "id": "c32a1d76",
   "metadata": {
    "execution": {
     "iopub.execute_input": "2022-11-02T21:30:02.088452Z",
     "iopub.status.busy": "2022-11-02T21:30:02.087875Z",
     "iopub.status.idle": "2022-11-02T21:30:02.281572Z",
     "shell.execute_reply": "2022-11-02T21:30:02.280646Z"
    },
    "papermill": {
     "duration": 0.20025,
     "end_time": "2022-11-02T21:30:02.284192",
     "exception": false,
     "start_time": "2022-11-02T21:30:02.083942",
     "status": "completed"
    },
    "tags": []
   },
   "outputs": [],
   "source": [
    "df.to_csv('IMDB_data_final.csv',index=False)"
   ]
  }
 ],
 "metadata": {
  "kernelspec": {
   "display_name": "Python 3",
   "language": "python",
   "name": "python3"
  },
  "language_info": {
   "codemirror_mode": {
    "name": "ipython",
    "version": 3
   },
   "file_extension": ".py",
   "mimetype": "text/x-python",
   "name": "python",
   "nbconvert_exporter": "python",
   "pygments_lexer": "ipython3",
   "version": "3.7.12"
  },
  "papermill": {
   "default_parameters": {},
   "duration": 26207.133843,
   "end_time": "2022-11-02T21:30:03.155920",
   "environment_variables": {},
   "exception": null,
   "input_path": "__notebook__.ipynb",
   "output_path": "__notebook__.ipynb",
   "parameters": {},
   "start_time": "2022-11-02T14:13:16.022077",
   "version": "2.3.4"
  }
 },
 "nbformat": 4,
 "nbformat_minor": 5
}
